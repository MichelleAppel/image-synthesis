{
 "cells": [
  {
   "cell_type": "code",
   "execution_count": 1,
   "metadata": {},
   "outputs": [],
   "source": [
    "import os\n",
    "\n",
    "import matplotlib.pyplot as plt\n",
    "\n",
    "import torch\n",
    "from torch.utils.data import Dataset, DataLoader\n",
    "from torchvision.utils import make_grid\n",
    "\n",
    "from torchvision import transforms\n",
    "\n",
    "from PIL import Image\n",
    "\n",
    "import json"
   ]
  },
  {
   "cell_type": "code",
   "execution_count": 2,
   "metadata": {},
   "outputs": [],
   "source": [
    "class SynthesisDataset(Dataset):\n",
    "    '''The dataset for the ArchVizPro data\n",
    "    '''\n",
    "    def __init__(self, root_dir):\n",
    "\n",
    "        # file locations\n",
    "        self.root_dir = root_dir # file path of the image dataset\n",
    "        self.file_list = os.listdir(self.root_dir) # gets all files in the directory\n",
    "        self.img_list = [file for file in self.file_list if \"img\" in file] # only the images\n",
    "        self.modalities = self.get_modalities() # all ground truths (rgb, semantic, outlines)\n",
    "        self.dictionary = self.files_to_dict() # makes a dictionary out of image paths\n",
    "        self.keys = list(self.dictionary.keys()) # all image sets (one image set contains multiple ground truths)\n",
    "        self.meta_file = [file for file in self.file_list if \"meta\" in file]\n",
    "        self.meta = self.load_json()\n",
    "\n",
    "        # transformations\n",
    "        self.toTensor = transforms.ToTensor() # from PIL image to Tensor\n",
    "        self.toPilImage = transforms.ToPILImage() # Tensor to Pil Image\n",
    "\n",
    "    def get_modalities(self):\n",
    "        first_char = self.file_list[0][0]\n",
    "        mods = [x for x in self.file_list if x.startswith(first_char) and x.endswith(\".png\")]\n",
    "        return [x.replace('.', '_').split('_')[1] for x in mods]\n",
    "\n",
    "    def files_to_dict(self):\n",
    "        dictionary = {}\n",
    "        for x in self.file_list:\n",
    "            if x.endswith('.png'):\n",
    "                if x.split('_')[0] not in dictionary.keys():\n",
    "                    dictionary[x.split('_')[0]] = {}\n",
    "                dictionary[x.split('_')[0]][x.replace('.', '_').split('_')[1]] = x\n",
    "\n",
    "        return dictionary\n",
    "\n",
    "    def __len__(self):\n",
    "        return len(self.img_list)\n",
    "\n",
    "    def __getitem__(self, idx):      \n",
    "        if torch.is_tensor(idx):\n",
    "            idx = idx.tolist()\n",
    "\n",
    "        images_dict = {}\n",
    "\n",
    "        key = self.keys[idx]\n",
    "        for mod in self.modalities:\n",
    "            images_dict[mod] = self.toTensor(Image.open(os.path.join(\n",
    "                self.root_dir, self.dictionary[key][mod])))\n",
    "\n",
    "        return images_dict\n",
    "\n",
    "    def show_imgdir(self, images_dict):\n",
    "        return self.toPilImage(make_grid([images_dict[key] for key in self.modalities]))\n",
    "\n",
    "    def load_json(self):\n",
    "        with open(os.path.join(\n",
    "                self.root_dir, self.meta_file[0])) as f:\n",
    "            return json.load(f)\n"
   ]
  },
  {
   "cell_type": "code",
   "execution_count": 3,
   "metadata": {},
   "outputs": [],
   "source": [
    "synthesis_dataset = SynthesisDataset(\"..\\simulation-synthesis\\output\\MLDataset\")"
   ]
  },
  {
   "cell_type": "code",
   "execution_count": 6,
   "metadata": {},
   "outputs": [
    {
     "data": {
      "text/plain": [
       "['depth', 'groundtruth', 'id', 'img', 'layer', 'normals', 'outlines']"
      ]
     },
     "execution_count": 6,
     "metadata": {},
     "output_type": "execute_result"
    }
   ],
   "source": [
    "synthesis_dataset.modalities"
   ]
  },
  {
   "cell_type": "code",
   "execution_count": 4,
   "metadata": {},
   "outputs": [
    {
     "ename": "KeyError",
     "evalue": "'groundtruth'",
     "output_type": "error",
     "traceback": [
      "\u001b[1;31m---------------------------------------------------------------------------\u001b[0m",
      "\u001b[1;31mKeyError\u001b[0m                                  Traceback (most recent call last)",
      "Input \u001b[1;32mIn [4]\u001b[0m, in \u001b[0;36m<module>\u001b[1;34m\u001b[0m\n\u001b[1;32m----> 1\u001b[0m item \u001b[38;5;241m=\u001b[39m \u001b[43msynthesis_dataset\u001b[49m\u001b[38;5;241;43m.\u001b[39;49m\u001b[38;5;21;43m__getitem__\u001b[39;49m\u001b[43m(\u001b[49m\u001b[38;5;241;43m0\u001b[39;49m\u001b[43m)\u001b[49m\n",
      "Input \u001b[1;32mIn [2]\u001b[0m, in \u001b[0;36mSynthesisDataset.__getitem__\u001b[1;34m(self, idx)\u001b[0m\n\u001b[0;32m     44\u001b[0m key \u001b[38;5;241m=\u001b[39m \u001b[38;5;28mself\u001b[39m\u001b[38;5;241m.\u001b[39mkeys[idx]\n\u001b[0;32m     45\u001b[0m \u001b[38;5;28;01mfor\u001b[39;00m mod \u001b[38;5;129;01min\u001b[39;00m \u001b[38;5;28mself\u001b[39m\u001b[38;5;241m.\u001b[39mmodalities:\n\u001b[0;32m     46\u001b[0m     images_dict[mod] \u001b[38;5;241m=\u001b[39m \u001b[38;5;28mself\u001b[39m\u001b[38;5;241m.\u001b[39mtoTensor(Image\u001b[38;5;241m.\u001b[39mopen(os\u001b[38;5;241m.\u001b[39mpath\u001b[38;5;241m.\u001b[39mjoin(\n\u001b[1;32m---> 47\u001b[0m         \u001b[38;5;28mself\u001b[39m\u001b[38;5;241m.\u001b[39mroot_dir, \u001b[38;5;28;43mself\u001b[39;49m\u001b[38;5;241;43m.\u001b[39;49m\u001b[43mdictionary\u001b[49m\u001b[43m[\u001b[49m\u001b[43mkey\u001b[49m\u001b[43m]\u001b[49m\u001b[43m[\u001b[49m\u001b[43mmod\u001b[49m\u001b[43m]\u001b[49m)))\n\u001b[0;32m     49\u001b[0m \u001b[38;5;28;01mreturn\u001b[39;00m images_dict\n",
      "\u001b[1;31mKeyError\u001b[0m: 'groundtruth'"
     ]
    }
   ],
   "source": [
    "item = synthesis_dataset.__getitem__(0)"
   ]
  },
  {
   "cell_type": "code",
   "execution_count": 5,
   "metadata": {},
   "outputs": [
    {
     "ename": "NameError",
     "evalue": "name 'item' is not defined",
     "output_type": "error",
     "traceback": [
      "\u001b[1;31m---------------------------------------------------------------------------\u001b[0m",
      "\u001b[1;31mNameError\u001b[0m                                 Traceback (most recent call last)",
      "Input \u001b[1;32mIn [5]\u001b[0m, in \u001b[0;36m<module>\u001b[1;34m\u001b[0m\n\u001b[1;32m----> 1\u001b[0m synthesis_dataset\u001b[38;5;241m.\u001b[39mshow_imgdir(\u001b[43mitem\u001b[49m)\n",
      "\u001b[1;31mNameError\u001b[0m: name 'item' is not defined"
     ]
    }
   ],
   "source": [
    "synthesis_dataset.show_imgdir(item)"
   ]
  },
  {
   "cell_type": "code",
   "execution_count": 6,
   "metadata": {},
   "outputs": [],
   "source": [
    "meta = synthesis_dataset.meta\n",
    "\n",
    "def dicttotensor(color):\n",
    "    return torch.Tensor([color[value] for value in ['r', 'g', 'b']]).int()\n",
    "    \n",
    "namecolortonamedict = {}\n",
    "\n",
    "for i, object in enumerate(meta):\n",
    "    colortensor = dicttotensor(object['nameColor'])\n",
    "    object['idcount'] = i\n",
    "    object['colortensor'] = colortensor\n",
    "    namecolortonamedict[str(colortensor)] = object"
   ]
  },
  {
   "cell_type": "code",
   "execution_count": 53,
   "metadata": {},
   "outputs": [],
   "source": [
    "semantic_ids = torch.empty(item['layer'][0:1, :, :].shape)\n",
    "intimg = (item['layer']*255).int().permute(1,2,0)\n",
    "\n",
    "colors = namecolortonamedict.keys()\n",
    "\n",
    "for color in colors:\n",
    "    semantic_ids[(intimg == namecolortonamedict[color]['colortensor'])[:, :, 0:1].permute(\n",
    "        2,0,1)] = namecolortonamedict[color]['idcount']"
   ]
  },
  {
   "cell_type": "code",
   "execution_count": 54,
   "metadata": {},
   "outputs": [
    {
     "data": {
      "image/png": "[encoded data removed]",
      "text/plain": [
       "<PIL.Image.Image image mode=L size=512x512 at 0x25194F233D0>"
      ]
     },
     "execution_count": 54,
     "metadata": {},
     "output_type": "execute_result"
    }
   ],
   "source": [
    "synthesis_dataset.toPilImage(semantic_ids)"
   ]
  }
 ],
 "metadata": {
  "interpreter": {
   "hash": "68f94ed8111706992dfc3b831976d6b60b80b5eda1e7f8b5d3609990ed90ceb1"
  },
  "kernelspec": {
   "display_name": "Python 3.9.9 64-bit (windows store)",
   "language": "python",
   "name": "python3"
  },
  "language_info": {
   "codemirror_mode": {
    "name": "ipython",
    "version": 3
   },
   "file_extension": ".py",
   "mimetype": "text/x-python",
   "name": "python",
   "nbconvert_exporter": "python",
   "pygments_lexer": "ipython3",
   "version": "3.9.7"
  },
  "orig_nbformat": 4
 },
 "nbformat": 4,
 "nbformat_minor": 2
}
