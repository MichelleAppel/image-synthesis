{
 "cells": [
  {
   "cell_type": "markdown",
   "metadata": {},
   "source": [
    "### Imports & constants"
   ]
  },
  {
   "cell_type": "code",
   "execution_count": 1,
   "metadata": {},
   "outputs": [],
   "source": [
    "import torch\n",
    "from torchvision.utils import make_grid\n",
    "from torch.utils.data import DataLoader, Subset\n",
    "\n",
    "from synthesis_dataset import SynthesisDataset\n",
    "\n",
    "from net import Cycle\n",
    "from bdcn import BDCN\n",
    "\n",
    "import numpy as np"
   ]
  },
  {
   "cell_type": "code",
   "execution_count": 2,
   "metadata": {},
   "outputs": [],
   "source": [
    "np.random.seed(42)\n",
    "\n",
    "torch.backends.cudnn.benchmark = True\n",
    "torch.backends.cudnn.enabled = True\n",
    "\n",
    "device = torch.device('cuda')\n",
    "batch_size = 2"
   ]
  },
  {
   "cell_type": "markdown",
   "metadata": {},
   "source": [
    "### Dataloaders"
   ]
  },
  {
   "cell_type": "code",
   "execution_count": 3,
   "metadata": {},
   "outputs": [],
   "source": [
    "dataset = SynthesisDataset(\"..\\simulation-synthesis\\output\\MLDataset\", extension='.png')\n",
    "dataset.modalities = ['img', 'outlines']\n",
    "\n",
    "rtrain = Subset(dataset, range(0, int(0.9*len(dataset))))\n",
    "rval = Subset(dataset, range(int(0.9*len(dataset)), len(dataset)))\n",
    "\n",
    "train_loader = DataLoader(rtrain, batch_size=batch_size, shuffle=True)\n",
    "val_loader = DataLoader(rval, batch_size=batch_size, shuffle=False)"
   ]
  },
  {
   "cell_type": "code",
   "execution_count": 4,
   "metadata": {},
   "outputs": [
    {
     "name": "stderr",
     "output_type": "stream",
     "text": [
      "c:\\Users\\appel\\Project\\image-synthesis\\bdcn.py:207: UserWarning: nn.init.constant is now deprecated in favor of nn.init.constant_.\n",
      "  nn.init.constant(param, 0.080)\n"
     ]
    }
   ],
   "source": [
    "model = BDCN(pretrained=True).to(device)\n",
    "model.train()\n",
    "optimizer = torch.optim.SGD(params=model.parameters(), momentum=0.9, lr=1e-6, weight_decay=0.0002)"
   ]
  },
  {
   "cell_type": "code",
   "execution_count": 5,
   "metadata": {},
   "outputs": [],
   "source": [
    "for data in train_loader:\n",
    "    optimizer.zero_grad()\n",
    "    images = data['img'].to(device)\n",
    "    labels = data['outlines'].to(device)\n",
    "    out = model(images)\n",
    "    loss = combined_loss(out, labels)\n",
    "    loss.backward()\n",
    "    batch_loss += loss.item()"
   ]
  },
  {
   "cell_type": "code",
   "execution_count": 7,
   "metadata": {},
   "outputs": [
    {
     "data": {
      "text/plain": [
       "11"
      ]
     },
     "execution_count": 7,
     "metadata": {},
     "output_type": "execute_result"
    }
   ],
   "source": []
  },
  {
   "cell_type": "code",
   "execution_count": 10,
   "metadata": {},
   "outputs": [
    {
     "data": {
      "text/plain": [
       "torch.Size([2, 1, 128, 128])"
      ]
     },
     "execution_count": 10,
     "metadata": {},
     "output_type": "execute_result"
    }
   ],
   "source": []
  },
  {
   "cell_type": "code",
   "execution_count": null,
   "metadata": {},
   "outputs": [],
   "source": []
  }
 ],
 "metadata": {
  "interpreter": {
   "hash": "2e5fea8652bb65668637312a648f17b40eb3d976fe57b558f192817385ca649d"
  },
  "kernelspec": {
   "display_name": "Python 3.9.7 64-bit ('ML': conda)",
   "name": "python3"
  },
  "language_info": {
   "codemirror_mode": {
    "name": "ipython",
    "version": 3
   },
   "file_extension": ".py",
   "mimetype": "text/x-python",
   "name": "python",
   "nbconvert_exporter": "python",
   "pygments_lexer": "ipython3",
   "version": "3.9.7"
  },
  "orig_nbformat": 4
 },
 "nbformat": 4,
 "nbformat_minor": 2
}
