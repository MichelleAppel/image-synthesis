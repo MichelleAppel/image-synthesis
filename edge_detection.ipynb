{
 "cells": [
  {
   "cell_type": "markdown",
   "metadata": {},
   "source": [
    "### Imports & constants"
   ]
  },
  {
   "cell_type": "code",
   "execution_count": 1,
   "metadata": {},
   "outputs": [],
   "source": [
    "import torch\n",
    "from torchvision.utils import make_grid\n",
    "from torch.utils.data import DataLoader, Subset\n",
    "\n",
    "from synthesis_dataset import SynthesisDataset\n",
    "\n",
    "from net import Cycle\n",
    "from bdcn import BDCN\n",
    "\n",
    "import numpy as np"
   ]
  },
  {
   "cell_type": "code",
   "execution_count": 2,
   "metadata": {},
   "outputs": [],
   "source": [
    "np.random.seed(42)\n",
    "\n",
    "torch.backends.cudnn.benchmark = True\n",
    "torch.backends.cudnn.enabled = True\n",
    "\n",
    "device = torch.device('cuda')\n",
    "batch_size = 2"
   ]
  },
  {
   "cell_type": "code",
   "execution_count": 11,
   "metadata": {},
   "outputs": [],
   "source": [
    "def combined_loss(preds, targets):\n",
    "    mask = (targets[0] > 0.5).float()\n",
    "    b, c, h, w = mask.shape\n",
    "    num_p = torch.sum(mask, dim=[1, 2, 3])\n",
    "    num_n = c * h * w - num_p\n",
    "    weight = torch.empty_like(mask)\n",
    "    for i, w in enumerate(weight):\n",
    "        w[mask[i] == 0] = num_p[i] * 1.2 / (num_p[i] + num_n[i])\n",
    "        w[mask[i] != 0] = num_n[i] / (num_p[i] + num_n[i])\n",
    "\n",
    "    losses = []\n",
    "    for pred in preds[:-1]:\n",
    "        losses += [args.side_weight * F.binary_cross_entropy_with_logits(\n",
    "            pred.float(), targets[0].float(), weight=weight, reduction='sum')]\n",
    "    losses += [args.fuse_weight * F.binary_cross_entropy_with_logits(\n",
    "        preds[-1].float(), targets[0].float(), weight=weight, reduction='sum')]\n",
    "\n",
    "    return sum([loss / b for loss in losses])"
   ]
  },
  {
   "cell_type": "markdown",
   "metadata": {},
   "source": [
    "### Dataloaders"
   ]
  },
  {
   "cell_type": "code",
   "execution_count": 3,
   "metadata": {},
   "outputs": [],
   "source": [
    "dataset = SynthesisDataset(\"..\\simulation-synthesis\\output\\MLDataset\", extension='.png')\n",
    "dataset.modalities = ['img', 'outlines']\n",
    "\n",
    "rtrain = Subset(dataset, range(0, int(0.9*len(dataset))))\n",
    "rval = Subset(dataset, range(int(0.9*len(dataset)), len(dataset)))\n",
    "\n",
    "train_loader = DataLoader(rtrain, batch_size=batch_size, shuffle=True)\n",
    "val_loader = DataLoader(rval, batch_size=batch_size, shuffle=False)"
   ]
  },
  {
   "cell_type": "code",
   "execution_count": 4,
   "metadata": {},
   "outputs": [
    {
     "name": "stderr",
     "output_type": "stream",
     "text": [
      "c:\\Users\\appel\\Project\\image-synthesis\\bdcn.py:207: UserWarning: nn.init.constant is now deprecated in favor of nn.init.constant_.\n",
      "  nn.init.constant(param, 0.080)\n"
     ]
    }
   ],
   "source": [
    "model = BDCN(pretrained=True).to(device)\n",
    "model.train()\n",
    "optimizer = torch.optim.SGD(params=model.parameters(), momentum=0.9, lr=1e-6, weight_decay=0.0002)"
   ]
  },
  {
   "cell_type": "code",
   "execution_count": 15,
   "metadata": {},
   "outputs": [],
   "source": [
    "for data in train_loader:\n",
    "    optimizer.zero_grad()\n",
    "    images = data['img'].to(device)\n",
    "    labels = data['outlines'].to(device)\n",
    "    out = model(images)\n",
    "    # loss = combined_loss(out, labels)\n",
    "    # loss.backward()\n",
    "    # batch_loss += loss.item()\n",
    "    break"
   ]
  },
  {
   "cell_type": "code",
   "execution_count": null,
   "metadata": {},
   "outputs": [],
   "source": []
  }
 ],
 "metadata": {
  "interpreter": {
   "hash": "2e5fea8652bb65668637312a648f17b40eb3d976fe57b558f192817385ca649d"
  },
  "kernelspec": {
   "display_name": "Python 3.9.7 64-bit ('ML': conda)",
   "name": "python3"
  },
  "language_info": {
   "codemirror_mode": {
    "name": "ipython",
    "version": 3
   },
   "file_extension": ".py",
   "mimetype": "text/x-python",
   "name": "python",
   "nbconvert_exporter": "python",
   "pygments_lexer": "ipython3",
   "version": "3.9.7"
  },
  "orig_nbformat": 4
 },
 "nbformat": 4,
 "nbformat_minor": 2
}
