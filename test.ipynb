{
 "cells": [
  {
   "cell_type": "code",
   "execution_count": 1,
   "metadata": {},
   "outputs": [],
   "source": [
    "import torch\n",
    "import torchvision \n",
    "import torchvision.transforms as T \n",
    "\n",
    "import torchmetrics\n",
    "\n",
    "from PIL import Image"
   ]
  },
  {
   "cell_type": "code",
   "execution_count": 2,
   "metadata": {},
   "outputs": [],
   "source": [
    "transform = T.ToPILImage()"
   ]
  },
  {
   "cell_type": "code",
   "execution_count": 15,
   "metadata": {},
   "outputs": [],
   "source": [
    "mask = torch.zeros(1,164,164)\n",
    "pred = torch.zeros(1,2,164,164)"
   ]
  },
  {
   "cell_type": "code",
   "execution_count": 16,
   "metadata": {},
   "outputs": [],
   "source": [
    "mask[:, 2:3 ] = 1\n",
    "pred[:, 1, 2:3 ] = 1\n",
    "\n",
    "mask[:, 8:9 ] = 1\n",
    "pred[:, 1, 9:10 ] = 1"
   ]
  },
  {
   "cell_type": "code",
   "execution_count": 17,
   "metadata": {},
   "outputs": [
    {
     "data": {
      "image/png": "[encoded data removed]",
      "text/plain": [
       "<PIL.Image.Image image mode=L size=164x164 at 0x2792181C190>"
      ]
     },
     "execution_count": 17,
     "metadata": {},
     "output_type": "execute_result"
    }
   ],
   "source": [
    "transform(mask)"
   ]
  },
  {
   "cell_type": "code",
   "execution_count": 22,
   "metadata": {},
   "outputs": [
    {
     "data": {
      "image/png": "[encoded data removed]",
      "text/plain": [
       "<PIL.Image.Image image mode=L size=164x164 at 0x27921806820>"
      ]
     },
     "execution_count": 22,
     "metadata": {},
     "output_type": "execute_result"
    }
   ],
   "source": [
    "transform(pred[:, 1])"
   ]
  },
  {
   "cell_type": "code",
   "execution_count": 32,
   "metadata": {},
   "outputs": [],
   "source": [
    "def AP(pred, mask, pos_label=None, matching_distance=1):\n",
    "    if pred.shape[1] == 2: # binary case\n",
    "        pred = pred[:, pos_label]\n",
    "\n",
    "    if matching_distance > 1:\n",
    "        kernel = torch.ones(mask.shape[0], matching_distance, matching_distance)\n",
    "        mask = torch.nn.functional.conv2d(mask.unsqueeze(0), kernel.unsqueeze(0), padding='same')\n",
    "        mask = torch.clip(mask, 0, 1).squeeze(0)\n",
    "\n",
    "    if pred.shape != mask.shape:\n",
    "        pass\n",
    "\n",
    "    TP = ((pred == 1) & (mask == 1)).sum()\n",
    "    FP = ((pred == 1) & (mask == 0)).sum()\n",
    "    precision = TP / (TP+FP)\n",
    "    return precision\n"
   ]
  },
  {
   "cell_type": "code",
   "execution_count": 33,
   "metadata": {},
   "outputs": [],
   "source": [
    "pred_batch = torch.vstack((pred, pred, pred))\n",
    "mask_batch = torch.vstack((mask, mask, mask))"
   ]
  },
  {
   "cell_type": "code",
   "execution_count": 34,
   "metadata": {},
   "outputs": [
    {
     "data": {
      "text/plain": [
       "tensor(0.5000)"
      ]
     },
     "execution_count": 34,
     "metadata": {},
     "output_type": "execute_result"
    }
   ],
   "source": [
    "ap = AP(pred_batch, mask_batch, pos_label=1, matching_distance=1)\n",
    "ap"
   ]
  },
  {
   "cell_type": "code",
   "execution_count": null,
   "metadata": {},
   "outputs": [],
   "source": []
  }
 ],
 "metadata": {
  "interpreter": {
   "hash": "2e5fea8652bb65668637312a648f17b40eb3d976fe57b558f192817385ca649d"
  },
  "kernelspec": {
   "display_name": "Python 3.9.7 ('ML')",
   "language": "python",
   "name": "python3"
  },
  "language_info": {
   "codemirror_mode": {
    "name": "ipython",
    "version": 3
   },
   "file_extension": ".py",
   "mimetype": "text/x-python",
   "name": "python",
   "nbconvert_exporter": "python",
   "pygments_lexer": "ipython3",
   "version": "3.9.7"
  },
  "orig_nbformat": 4
 },
 "nbformat": 4,
 "nbformat_minor": 2
}
