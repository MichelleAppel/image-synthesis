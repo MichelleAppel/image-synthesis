{
 "cells": [
  {
   "cell_type": "code",
   "execution_count": 136,
   "metadata": {},
   "outputs": [],
   "source": [
    "import numpy as np\n",
    "from PIL import Image\n",
    "\n",
    "import copy"
   ]
  },
  {
   "cell_type": "code",
   "execution_count": 284,
   "metadata": {},
   "outputs": [],
   "source": [
    "im = np.zeros((64,64), dtype=int)"
   ]
  },
  {
   "cell_type": "code",
   "execution_count": 285,
   "metadata": {},
   "outputs": [],
   "source": [
    "im[0:64, 0:5] = 255\n",
    "im[0:64, 60:64] = 120"
   ]
  },
  {
   "cell_type": "code",
   "execution_count": 286,
   "metadata": {},
   "outputs": [],
   "source": [
    "def show(im):\n",
    "    return Image.fromarray(im)"
   ]
  },
  {
   "cell_type": "code",
   "execution_count": 287,
   "metadata": {},
   "outputs": [
    {
     "data": {
      "image/png": "[encoded data removed]",
      "text/plain": [
       "<PIL.Image.Image image mode=I size=64x64 at 0x20D3FE2D190>"
      ]
     },
     "execution_count": 287,
     "metadata": {},
     "output_type": "execute_result"
    }
   ],
   "source": [
    "show(im*255)"
   ]
  },
  {
   "cell_type": "code",
   "execution_count": 288,
   "metadata": {},
   "outputs": [],
   "source": [
    "nn_interpolation = copy.deepcopy(im)"
   ]
  },
  {
   "cell_type": "code",
   "execution_count": 289,
   "metadata": {},
   "outputs": [],
   "source": [
    "intp_found = False\n",
    "max_distance = 64\n",
    "\n",
    "for x, row in enumerate(im):\n",
    "    for y, value in enumerate(row):\n",
    "        if value == 0:\n",
    "            i = 0\n",
    "            while not intp_found and i < max_distance:\n",
    "                i+=1\n",
    "                if y-i >= 0:\n",
    "                    left = im[x, y-i]\n",
    "                    if left > 0:\n",
    "                        nn_interpolation[x,y] = left\n",
    "                        intp_found = True\n",
    "                        break\n",
    "\n",
    "                if y+i < im.shape[1]:\n",
    "                    right = im[x, y+i]\n",
    "                    if right > 0:\n",
    "                        nn_interpolation[x,y] = right\n",
    "                        intp_found = True\n",
    "                        break\n",
    "\n",
    "                if x-i >= 0:\n",
    "                    up = im[x-i, y]\n",
    "                    if up > 0:\n",
    "                        nn_interpolation[x,y] = up\n",
    "                        intp_found = True\n",
    "                        break\n",
    "\n",
    "                if x+i < im.shape[0]:\n",
    "                    down = im[x+i, y]\n",
    "                    if down > 0:\n",
    "                        nn_interpolation[x,y] = down\n",
    "                        intp_found = True\n",
    "                        break\n",
    "            \n",
    "        intp_found = False\n",
    "\n",
    "\n",
    "\n"
   ]
  },
  {
   "cell_type": "code",
   "execution_count": 290,
   "metadata": {},
   "outputs": [
    {
     "data": {
      "image/png": "[encoded data removed]",
      "text/plain": [
       "<PIL.Image.Image image mode=I size=64x64 at 0x20D44DD27F0>"
      ]
     },
     "execution_count": 290,
     "metadata": {},
     "output_type": "execute_result"
    }
   ],
   "source": [
    "show(nn_interpolation*255)"
   ]
  },
  {
   "cell_type": "code",
   "execution_count": null,
   "metadata": {},
   "outputs": [],
   "source": []
  }
 ],
 "metadata": {
  "kernelspec": {
   "display_name": "Python 3.9.7 ('ML')",
   "language": "python",
   "name": "python3"
  },
  "language_info": {
   "codemirror_mode": {
    "name": "ipython",
    "version": 3
   },
   "file_extension": ".py",
   "mimetype": "text/x-python",
   "name": "python",
   "nbconvert_exporter": "python",
   "pygments_lexer": "ipython3",
   "version": "3.9.7"
  },
  "orig_nbformat": 4,
  "vscode": {
   "interpreter": {
    "hash": "a63092082013c4d2bfd8a33b21a5537df73e0853d0a31420ba80d96748147506"
   }
  }
 },
 "nbformat": 4,
 "nbformat_minor": 2
}
